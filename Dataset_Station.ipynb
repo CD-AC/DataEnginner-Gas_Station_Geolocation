{
  "cells": [
    {
      "cell_type": "markdown",
      "metadata": {
        "id": "view-in-github",
        "colab_type": "text"
      },
      "source": [
        "<a href=\"https://colab.research.google.com/github/CD-AC/DataEnginner-Gas_Station_Geolocation/blob/main/Dataset_Station.ipynb\" target=\"_parent\"><img src=\"https://colab.research.google.com/assets/colab-badge.svg\" alt=\"Open In Colab\"/></a>"
      ]
    },
    {
      "cell_type": "code",
      "execution_count": 1,
      "id": "126b9846",
      "metadata": {
        "id": "126b9846"
      },
      "outputs": [],
      "source": [
        "import requests\n",
        "import random\n",
        "import pandas as pd\n",
        "from tqdm import tqdm\n",
        "from bs4  import BeautifulSoup\n",
        "from cred_here import YOUR_API_KEY\n",
        "import json\n",
        "from tqdm import tqdm\n",
        "import time\n",
        "\n",
        "import ast"
      ]
    },
    {
      "cell_type": "code",
      "execution_count": 2,
      "id": "87d0aac7",
      "metadata": {
        "id": "87d0aac7"
      },
      "outputs": [],
      "source": [
        "YOUR_API_KEY = YOUR_API_KEY"
      ]
    },
    {
      "cell_type": "code",
      "execution_count": 3,
      "id": "81d9cec3",
      "metadata": {
        "id": "81d9cec3"
      },
      "outputs": [],
      "source": [
        "df = pd.read_csv('Dataset_Station.csv')"
      ]
    },
    {
      "cell_type": "code",
      "execution_count": 4,
      "id": "6c7c38c4",
      "metadata": {
        "colab": {
          "base_uri": "https://localhost:8080/",
          "height": 112
        },
        "id": "6c7c38c4",
        "outputId": "4fb32ce1-a0eb-4dc7-ec34-818348aa54f3"
      },
      "outputs": [
        {
          "output_type": "execute_result",
          "data": {
            "text/plain": [
              "   Periodo  Mes  Codigo_departamento Departamento  Codigo_municipio  \\\n",
              "0     2022    2                   11  BOGOTA D.C.             11001   \n",
              "1     2022    2                   11  BOGOTA D.C.             11001   \n",
              "\n",
              "      Municipio                      Nombre_comercial Bandera  \\\n",
              "0  BOGOTA  D.C.  SUPER ESTACION DE SERVICIO TEXACO 10  TEXACO   \n",
              "1  BOGOTA  D.C.  SUPER ESTACION DE SERVICIO TEXACO 10  TEXACO   \n",
              "\n",
              "                       Direccion                      Producto  Precio Estado  \n",
              "0  AVENIDA CARRERA 7 No. 123A-48  GASOLINA CORRIENTE OXIGENADA    9860      A  \n",
              "1  AVENIDA CARRERA 7 No. 123A-48               BIODIESEL EXTRA    9780      A  "
            ],
            "text/html": [
              "\n",
              "  <div id=\"df-450fdf92-d03c-4e5f-8bf4-d639598314a1\" class=\"colab-df-container\">\n",
              "    <div>\n",
              "<style scoped>\n",
              "    .dataframe tbody tr th:only-of-type {\n",
              "        vertical-align: middle;\n",
              "    }\n",
              "\n",
              "    .dataframe tbody tr th {\n",
              "        vertical-align: top;\n",
              "    }\n",
              "\n",
              "    .dataframe thead th {\n",
              "        text-align: right;\n",
              "    }\n",
              "</style>\n",
              "<table border=\"1\" class=\"dataframe\">\n",
              "  <thead>\n",
              "    <tr style=\"text-align: right;\">\n",
              "      <th></th>\n",
              "      <th>Periodo</th>\n",
              "      <th>Mes</th>\n",
              "      <th>Codigo_departamento</th>\n",
              "      <th>Departamento</th>\n",
              "      <th>Codigo_municipio</th>\n",
              "      <th>Municipio</th>\n",
              "      <th>Nombre_comercial</th>\n",
              "      <th>Bandera</th>\n",
              "      <th>Direccion</th>\n",
              "      <th>Producto</th>\n",
              "      <th>Precio</th>\n",
              "      <th>Estado</th>\n",
              "    </tr>\n",
              "  </thead>\n",
              "  <tbody>\n",
              "    <tr>\n",
              "      <th>0</th>\n",
              "      <td>2022</td>\n",
              "      <td>2</td>\n",
              "      <td>11</td>\n",
              "      <td>BOGOTA D.C.</td>\n",
              "      <td>11001</td>\n",
              "      <td>BOGOTA  D.C.</td>\n",
              "      <td>SUPER ESTACION DE SERVICIO TEXACO 10</td>\n",
              "      <td>TEXACO</td>\n",
              "      <td>AVENIDA CARRERA 7 No. 123A-48</td>\n",
              "      <td>GASOLINA CORRIENTE OXIGENADA</td>\n",
              "      <td>9860</td>\n",
              "      <td>A</td>\n",
              "    </tr>\n",
              "    <tr>\n",
              "      <th>1</th>\n",
              "      <td>2022</td>\n",
              "      <td>2</td>\n",
              "      <td>11</td>\n",
              "      <td>BOGOTA D.C.</td>\n",
              "      <td>11001</td>\n",
              "      <td>BOGOTA  D.C.</td>\n",
              "      <td>SUPER ESTACION DE SERVICIO TEXACO 10</td>\n",
              "      <td>TEXACO</td>\n",
              "      <td>AVENIDA CARRERA 7 No. 123A-48</td>\n",
              "      <td>BIODIESEL EXTRA</td>\n",
              "      <td>9780</td>\n",
              "      <td>A</td>\n",
              "    </tr>\n",
              "  </tbody>\n",
              "</table>\n",
              "</div>\n",
              "    <div class=\"colab-df-buttons\">\n",
              "\n",
              "  <div class=\"colab-df-container\">\n",
              "    <button class=\"colab-df-convert\" onclick=\"convertToInteractive('df-450fdf92-d03c-4e5f-8bf4-d639598314a1')\"\n",
              "            title=\"Convert this dataframe to an interactive table.\"\n",
              "            style=\"display:none;\">\n",
              "\n",
              "  <svg xmlns=\"http://www.w3.org/2000/svg\" height=\"24px\" viewBox=\"0 -960 960 960\">\n",
              "    <path d=\"M120-120v-720h720v720H120Zm60-500h600v-160H180v160Zm220 220h160v-160H400v160Zm0 220h160v-160H400v160ZM180-400h160v-160H180v160Zm440 0h160v-160H620v160ZM180-180h160v-160H180v160Zm440 0h160v-160H620v160Z\"/>\n",
              "  </svg>\n",
              "    </button>\n",
              "\n",
              "  <style>\n",
              "    .colab-df-container {\n",
              "      display:flex;\n",
              "      gap: 12px;\n",
              "    }\n",
              "\n",
              "    .colab-df-convert {\n",
              "      background-color: #E8F0FE;\n",
              "      border: none;\n",
              "      border-radius: 50%;\n",
              "      cursor: pointer;\n",
              "      display: none;\n",
              "      fill: #1967D2;\n",
              "      height: 32px;\n",
              "      padding: 0 0 0 0;\n",
              "      width: 32px;\n",
              "    }\n",
              "\n",
              "    .colab-df-convert:hover {\n",
              "      background-color: #E2EBFA;\n",
              "      box-shadow: 0px 1px 2px rgba(60, 64, 67, 0.3), 0px 1px 3px 1px rgba(60, 64, 67, 0.15);\n",
              "      fill: #174EA6;\n",
              "    }\n",
              "\n",
              "    .colab-df-buttons div {\n",
              "      margin-bottom: 4px;\n",
              "    }\n",
              "\n",
              "    [theme=dark] .colab-df-convert {\n",
              "      background-color: #3B4455;\n",
              "      fill: #D2E3FC;\n",
              "    }\n",
              "\n",
              "    [theme=dark] .colab-df-convert:hover {\n",
              "      background-color: #434B5C;\n",
              "      box-shadow: 0px 1px 3px 1px rgba(0, 0, 0, 0.15);\n",
              "      filter: drop-shadow(0px 1px 2px rgba(0, 0, 0, 0.3));\n",
              "      fill: #FFFFFF;\n",
              "    }\n",
              "  </style>\n",
              "\n",
              "    <script>\n",
              "      const buttonEl =\n",
              "        document.querySelector('#df-450fdf92-d03c-4e5f-8bf4-d639598314a1 button.colab-df-convert');\n",
              "      buttonEl.style.display =\n",
              "        google.colab.kernel.accessAllowed ? 'block' : 'none';\n",
              "\n",
              "      async function convertToInteractive(key) {\n",
              "        const element = document.querySelector('#df-450fdf92-d03c-4e5f-8bf4-d639598314a1');\n",
              "        const dataTable =\n",
              "          await google.colab.kernel.invokeFunction('convertToInteractive',\n",
              "                                                    [key], {});\n",
              "        if (!dataTable) return;\n",
              "\n",
              "        const docLinkHtml = 'Like what you see? Visit the ' +\n",
              "          '<a target=\"_blank\" href=https://colab.research.google.com/notebooks/data_table.ipynb>data table notebook</a>'\n",
              "          + ' to learn more about interactive tables.';\n",
              "        element.innerHTML = '';\n",
              "        dataTable['output_type'] = 'display_data';\n",
              "        await google.colab.output.renderOutput(dataTable, element);\n",
              "        const docLink = document.createElement('div');\n",
              "        docLink.innerHTML = docLinkHtml;\n",
              "        element.appendChild(docLink);\n",
              "      }\n",
              "    </script>\n",
              "  </div>\n",
              "\n",
              "\n",
              "<div id=\"df-e02000ec-24e4-4797-b47f-824f0b79f4fd\">\n",
              "  <button class=\"colab-df-quickchart\" onclick=\"quickchart('df-e02000ec-24e4-4797-b47f-824f0b79f4fd')\"\n",
              "            title=\"Suggest charts\"\n",
              "            style=\"display:none;\">\n",
              "\n",
              "<svg xmlns=\"http://www.w3.org/2000/svg\" height=\"24px\"viewBox=\"0 0 24 24\"\n",
              "     width=\"24px\">\n",
              "    <g>\n",
              "        <path d=\"M19 3H5c-1.1 0-2 .9-2 2v14c0 1.1.9 2 2 2h14c1.1 0 2-.9 2-2V5c0-1.1-.9-2-2-2zM9 17H7v-7h2v7zm4 0h-2V7h2v10zm4 0h-2v-4h2v4z\"/>\n",
              "    </g>\n",
              "</svg>\n",
              "  </button>\n",
              "\n",
              "<style>\n",
              "  .colab-df-quickchart {\n",
              "      --bg-color: #E8F0FE;\n",
              "      --fill-color: #1967D2;\n",
              "      --hover-bg-color: #E2EBFA;\n",
              "      --hover-fill-color: #174EA6;\n",
              "      --disabled-fill-color: #AAA;\n",
              "      --disabled-bg-color: #DDD;\n",
              "  }\n",
              "\n",
              "  [theme=dark] .colab-df-quickchart {\n",
              "      --bg-color: #3B4455;\n",
              "      --fill-color: #D2E3FC;\n",
              "      --hover-bg-color: #434B5C;\n",
              "      --hover-fill-color: #FFFFFF;\n",
              "      --disabled-bg-color: #3B4455;\n",
              "      --disabled-fill-color: #666;\n",
              "  }\n",
              "\n",
              "  .colab-df-quickchart {\n",
              "    background-color: var(--bg-color);\n",
              "    border: none;\n",
              "    border-radius: 50%;\n",
              "    cursor: pointer;\n",
              "    display: none;\n",
              "    fill: var(--fill-color);\n",
              "    height: 32px;\n",
              "    padding: 0;\n",
              "    width: 32px;\n",
              "  }\n",
              "\n",
              "  .colab-df-quickchart:hover {\n",
              "    background-color: var(--hover-bg-color);\n",
              "    box-shadow: 0 1px 2px rgba(60, 64, 67, 0.3), 0 1px 3px 1px rgba(60, 64, 67, 0.15);\n",
              "    fill: var(--button-hover-fill-color);\n",
              "  }\n",
              "\n",
              "  .colab-df-quickchart-complete:disabled,\n",
              "  .colab-df-quickchart-complete:disabled:hover {\n",
              "    background-color: var(--disabled-bg-color);\n",
              "    fill: var(--disabled-fill-color);\n",
              "    box-shadow: none;\n",
              "  }\n",
              "\n",
              "  .colab-df-spinner {\n",
              "    border: 2px solid var(--fill-color);\n",
              "    border-color: transparent;\n",
              "    border-bottom-color: var(--fill-color);\n",
              "    animation:\n",
              "      spin 1s steps(1) infinite;\n",
              "  }\n",
              "\n",
              "  @keyframes spin {\n",
              "    0% {\n",
              "      border-color: transparent;\n",
              "      border-bottom-color: var(--fill-color);\n",
              "      border-left-color: var(--fill-color);\n",
              "    }\n",
              "    20% {\n",
              "      border-color: transparent;\n",
              "      border-left-color: var(--fill-color);\n",
              "      border-top-color: var(--fill-color);\n",
              "    }\n",
              "    30% {\n",
              "      border-color: transparent;\n",
              "      border-left-color: var(--fill-color);\n",
              "      border-top-color: var(--fill-color);\n",
              "      border-right-color: var(--fill-color);\n",
              "    }\n",
              "    40% {\n",
              "      border-color: transparent;\n",
              "      border-right-color: var(--fill-color);\n",
              "      border-top-color: var(--fill-color);\n",
              "    }\n",
              "    60% {\n",
              "      border-color: transparent;\n",
              "      border-right-color: var(--fill-color);\n",
              "    }\n",
              "    80% {\n",
              "      border-color: transparent;\n",
              "      border-right-color: var(--fill-color);\n",
              "      border-bottom-color: var(--fill-color);\n",
              "    }\n",
              "    90% {\n",
              "      border-color: transparent;\n",
              "      border-bottom-color: var(--fill-color);\n",
              "    }\n",
              "  }\n",
              "</style>\n",
              "\n",
              "  <script>\n",
              "    async function quickchart(key) {\n",
              "      const quickchartButtonEl =\n",
              "        document.querySelector('#' + key + ' button');\n",
              "      quickchartButtonEl.disabled = true;  // To prevent multiple clicks.\n",
              "      quickchartButtonEl.classList.add('colab-df-spinner');\n",
              "      try {\n",
              "        const charts = await google.colab.kernel.invokeFunction(\n",
              "            'suggestCharts', [key], {});\n",
              "      } catch (error) {\n",
              "        console.error('Error during call to suggestCharts:', error);\n",
              "      }\n",
              "      quickchartButtonEl.classList.remove('colab-df-spinner');\n",
              "      quickchartButtonEl.classList.add('colab-df-quickchart-complete');\n",
              "    }\n",
              "    (() => {\n",
              "      let quickchartButtonEl =\n",
              "        document.querySelector('#df-e02000ec-24e4-4797-b47f-824f0b79f4fd button');\n",
              "      quickchartButtonEl.style.display =\n",
              "        google.colab.kernel.accessAllowed ? 'block' : 'none';\n",
              "    })();\n",
              "  </script>\n",
              "</div>\n",
              "    </div>\n",
              "  </div>\n"
            ],
            "application/vnd.google.colaboratory.intrinsic+json": {
              "type": "dataframe",
              "variable_name": "df",
              "summary": "{\n  \"name\": \"df\",\n  \"rows\": 857,\n  \"fields\": [\n    {\n      \"column\": \"Periodo\",\n      \"properties\": {\n        \"dtype\": \"number\",\n        \"std\": 0,\n        \"min\": 2022,\n        \"max\": 2022,\n        \"num_unique_values\": 1,\n        \"samples\": [\n          2022\n        ],\n        \"semantic_type\": \"\",\n        \"description\": \"\"\n      }\n    },\n    {\n      \"column\": \"Mes\",\n      \"properties\": {\n        \"dtype\": \"number\",\n        \"std\": 0,\n        \"min\": 2,\n        \"max\": 2,\n        \"num_unique_values\": 1,\n        \"samples\": [\n          2\n        ],\n        \"semantic_type\": \"\",\n        \"description\": \"\"\n      }\n    },\n    {\n      \"column\": \"Codigo_departamento\",\n      \"properties\": {\n        \"dtype\": \"number\",\n        \"std\": 0,\n        \"min\": 11,\n        \"max\": 11,\n        \"num_unique_values\": 1,\n        \"samples\": [\n          11\n        ],\n        \"semantic_type\": \"\",\n        \"description\": \"\"\n      }\n    },\n    {\n      \"column\": \"Departamento\",\n      \"properties\": {\n        \"dtype\": \"category\",\n        \"num_unique_values\": 1,\n        \"samples\": [\n          \"BOGOTA D.C.\"\n        ],\n        \"semantic_type\": \"\",\n        \"description\": \"\"\n      }\n    },\n    {\n      \"column\": \"Codigo_municipio\",\n      \"properties\": {\n        \"dtype\": \"number\",\n        \"std\": 0,\n        \"min\": 11001,\n        \"max\": 11001,\n        \"num_unique_values\": 1,\n        \"samples\": [\n          11001\n        ],\n        \"semantic_type\": \"\",\n        \"description\": \"\"\n      }\n    },\n    {\n      \"column\": \"Municipio\",\n      \"properties\": {\n        \"dtype\": \"category\",\n        \"num_unique_values\": 1,\n        \"samples\": [\n          \"BOGOTA  D.C.\"\n        ],\n        \"semantic_type\": \"\",\n        \"description\": \"\"\n      }\n    },\n    {\n      \"column\": \"Nombre_comercial\",\n      \"properties\": {\n        \"dtype\": \"category\",\n        \"num_unique_values\": 239,\n        \"samples\": [\n          \"ESTACION DE SERVICIO HERGOS GASOLINA\"\n        ],\n        \"semantic_type\": \"\",\n        \"description\": \"\"\n      }\n    },\n    {\n      \"column\": \"Bandera\",\n      \"properties\": {\n        \"dtype\": \"category\",\n        \"num_unique_values\": 9,\n        \"samples\": [\n          \"ESSO\"\n        ],\n        \"semantic_type\": \"\",\n        \"description\": \"\"\n      }\n    },\n    {\n      \"column\": \"Direccion\",\n      \"properties\": {\n        \"dtype\": \"category\",\n        \"num_unique_values\": 239,\n        \"samples\": [\n          \"CALLE 73 NO 86 -08\"\n        ],\n        \"semantic_type\": \"\",\n        \"description\": \"\"\n      }\n    },\n    {\n      \"column\": \"Producto\",\n      \"properties\": {\n        \"dtype\": \"category\",\n        \"num_unique_values\": 5,\n        \"samples\": [\n          \"BIODIESEL EXTRA\"\n        ],\n        \"semantic_type\": \"\",\n        \"description\": \"\"\n      }\n    },\n    {\n      \"column\": \"Precio\",\n      \"properties\": {\n        \"dtype\": \"number\",\n        \"std\": 2982,\n        \"min\": 7924,\n        \"max\": 17770,\n        \"num_unique_values\": 342,\n        \"samples\": [\n          16230\n        ],\n        \"semantic_type\": \"\",\n        \"description\": \"\"\n      }\n    },\n    {\n      \"column\": \"Estado\",\n      \"properties\": {\n        \"dtype\": \"category\",\n        \"num_unique_values\": 1,\n        \"samples\": [\n          \"A\"\n        ],\n        \"semantic_type\": \"\",\n        \"description\": \"\"\n      }\n    }\n  ]\n}"
            }
          },
          "metadata": {},
          "execution_count": 4
        }
      ],
      "source": [
        "df.head(2)"
      ]
    },
    {
      "cell_type": "markdown",
      "id": "2869c9b2",
      "metadata": {
        "id": "2869c9b2"
      },
      "source": [
        "# Clean Data"
      ]
    },
    {
      "cell_type": "code",
      "execution_count": 5,
      "id": "1c2e4461",
      "metadata": {
        "colab": {
          "base_uri": "https://localhost:8080/"
        },
        "id": "1c2e4461",
        "outputId": "8b7db67b-f4d0-4d2b-dd80-b5c4f8a1a81a"
      },
      "outputs": [
        {
          "output_type": "execute_result",
          "data": {
            "text/plain": [
              "2"
            ]
          },
          "metadata": {},
          "execution_count": 5
        }
      ],
      "source": [
        "df[df['Periodo']==2022]['Mes'].max()"
      ]
    },
    {
      "cell_type": "code",
      "execution_count": 8,
      "id": "faca0bf0",
      "metadata": {
        "id": "faca0bf0"
      },
      "outputs": [],
      "source": [
        "df2 =  df[(df['Periodo']==2022) & (df['Mes']==2)]\n",
        "df2 =  df2[(df2['Departamento']=='ANTIOQUIA') | (df2['Departamento']=='BOGOTA D.C.')]"
      ]
    },
    {
      "cell_type": "code",
      "execution_count": 9,
      "id": "99378d8f",
      "metadata": {
        "colab": {
          "base_uri": "https://localhost:8080/"
        },
        "id": "99378d8f",
        "outputId": "ab758c9c-60f9-41dd-ee94-36149f3cabc8"
      },
      "outputs": [
        {
          "output_type": "execute_result",
          "data": {
            "text/plain": [
              "BOGOTA  D.C.    857\n",
              "Name: Municipio, dtype: int64"
            ]
          },
          "metadata": {},
          "execution_count": 9
        }
      ],
      "source": [
        "df2['Municipio'].value_counts().head(10)"
      ]
    },
    {
      "cell_type": "code",
      "execution_count": 10,
      "id": "2c8f9233",
      "metadata": {
        "id": "2c8f9233"
      },
      "outputs": [],
      "source": [
        "df3 = df2[(df2['Departamento']=='BOGOTA D.C.') | ((df2['Departamento']=='ANTIOQUIA') & ((df2['Municipio']=='MEDELLIN') | (df2['Municipio']=='ITAGUI') | (df2['Municipio']=='BELLO') | (df2['Municipio']=='SABANETA') | (df2['Municipio']=='RIONEGRO') | (df2['Municipio']=='ENVIGADO')))]\n",
        "df3.reset_index(inplace = True)\n",
        "df3.drop(columns = 'index',inplace = True)"
      ]
    },
    {
      "cell_type": "code",
      "execution_count": null,
      "id": "a5e4b369",
      "metadata": {
        "id": "a5e4b369",
        "outputId": "6c3aeb13-584d-409d-b0f5-0ed06ed0f5c1"
      },
      "outputs": [
        {
          "data": {
            "text/html": [
              "<div>\n",
              "<style scoped>\n",
              "    .dataframe tbody tr th:only-of-type {\n",
              "        vertical-align: middle;\n",
              "    }\n",
              "\n",
              "    .dataframe tbody tr th {\n",
              "        vertical-align: top;\n",
              "    }\n",
              "\n",
              "    .dataframe thead th {\n",
              "        text-align: right;\n",
              "    }\n",
              "</style>\n",
              "<table border=\"1\" class=\"dataframe\">\n",
              "  <thead>\n",
              "    <tr style=\"text-align: right;\">\n",
              "      <th></th>\n",
              "      <th>Periodo</th>\n",
              "      <th>Mes</th>\n",
              "      <th>Codigo_departamento</th>\n",
              "      <th>Departamento</th>\n",
              "      <th>Codigo_municipio</th>\n",
              "      <th>Municipio</th>\n",
              "      <th>Nombre_comercial</th>\n",
              "      <th>Bandera</th>\n",
              "      <th>Direccion</th>\n",
              "      <th>Producto</th>\n",
              "      <th>Precio</th>\n",
              "      <th>Estado</th>\n",
              "    </tr>\n",
              "  </thead>\n",
              "  <tbody>\n",
              "    <tr>\n",
              "      <th>0</th>\n",
              "      <td>2022</td>\n",
              "      <td>6</td>\n",
              "      <td>5</td>\n",
              "      <td>ANTIOQUIA</td>\n",
              "      <td>5001</td>\n",
              "      <td>MEDELLIN</td>\n",
              "      <td>ESTACION DE SERVICIO TERPEL LA 45</td>\n",
              "      <td>TERPEL</td>\n",
              "      <td>CARRERA 45 No. 66-10</td>\n",
              "      <td>GASOLINA EXTRA OXIGENADA</td>\n",
              "      <td>17880.0</td>\n",
              "      <td>A</td>\n",
              "    </tr>\n",
              "    <tr>\n",
              "      <th>1</th>\n",
              "      <td>2022</td>\n",
              "      <td>6</td>\n",
              "      <td>5</td>\n",
              "      <td>ANTIOQUIA</td>\n",
              "      <td>5001</td>\n",
              "      <td>MEDELLIN</td>\n",
              "      <td>ESTACION DE SERVICIO TERPEL LA 45</td>\n",
              "      <td>TERPEL</td>\n",
              "      <td>CARRERA 45 No. 66-10</td>\n",
              "      <td>BIODIESEL EXTRA</td>\n",
              "      <td>9040.0</td>\n",
              "      <td>A</td>\n",
              "    </tr>\n",
              "  </tbody>\n",
              "</table>\n",
              "</div>"
            ],
            "text/plain": [
              "   Periodo  Mes  Codigo_departamento Departamento  Codigo_municipio Municipio  \\\n",
              "0     2022    6                    5    ANTIOQUIA              5001  MEDELLIN   \n",
              "1     2022    6                    5    ANTIOQUIA              5001  MEDELLIN   \n",
              "\n",
              "                    Nombre_comercial Bandera             Direccion  \\\n",
              "0  ESTACION DE SERVICIO TERPEL LA 45  TERPEL  CARRERA 45 No. 66-10   \n",
              "1  ESTACION DE SERVICIO TERPEL LA 45  TERPEL  CARRERA 45 No. 66-10   \n",
              "\n",
              "                   Producto   Precio Estado  \n",
              "0  GASOLINA EXTRA OXIGENADA  17880.0      A  \n",
              "1           BIODIESEL EXTRA   9040.0      A  "
            ]
          },
          "execution_count": 131,
          "metadata": {},
          "output_type": "execute_result"
        }
      ],
      "source": [
        "df3.head(2)"
      ]
    },
    {
      "cell_type": "code",
      "execution_count": 11,
      "id": "c5ad2d58",
      "metadata": {
        "colab": {
          "base_uri": "https://localhost:8080/"
        },
        "id": "c5ad2d58",
        "outputId": "ee842c55-98ce-4757-b8b8-a26025ef9430"
      },
      "outputs": [
        {
          "output_type": "execute_result",
          "data": {
            "text/plain": [
              "array(['BOGOTA  D.C.'], dtype=object)"
            ]
          },
          "metadata": {},
          "execution_count": 11
        }
      ],
      "source": [
        "df3['Municipio'].unique()"
      ]
    },
    {
      "cell_type": "code",
      "execution_count": 12,
      "id": "69a4db59",
      "metadata": {
        "id": "69a4db59"
      },
      "outputs": [],
      "source": [
        "df3['Dir2'] = df3['Direccion'].apply(lambda x : x.replace('#','No'))\n",
        "df3['Full_Address'] = df3.apply(lambda x : x['Direccion'] + ', ' + x['Municipio'].capitalize() + ', Colombia' , axis = 1)"
      ]
    },
    {
      "cell_type": "code",
      "execution_count": 13,
      "id": "7cf00a9c",
      "metadata": {
        "colab": {
          "base_uri": "https://localhost:8080/"
        },
        "id": "7cf00a9c",
        "outputId": "0aff6167-6e74-43ef-aa8c-1b1a4a3429d2"
      },
      "outputs": [
        {
          "output_type": "execute_result",
          "data": {
            "text/plain": [
              "239"
            ]
          },
          "metadata": {},
          "execution_count": 13
        }
      ],
      "source": [
        "df3['Full_Address'].nunique()"
      ]
    },
    {
      "cell_type": "code",
      "execution_count": 14,
      "id": "cb0b3cf9",
      "metadata": {
        "colab": {
          "base_uri": "https://localhost:8080/",
          "height": 36
        },
        "id": "cb0b3cf9",
        "outputId": "339098d8-51fb-4540-e646-7192e110eaf3"
      },
      "outputs": [
        {
          "output_type": "execute_result",
          "data": {
            "text/plain": [
              "'AVENIDA CARRERA 7 No. 123A-48, Bogota  d.c., Colombia'"
            ],
            "application/vnd.google.colaboratory.intrinsic+json": {
              "type": "string"
            }
          },
          "metadata": {},
          "execution_count": 14
        }
      ],
      "source": [
        "df3['Full_Address'][0]"
      ]
    },
    {
      "cell_type": "code",
      "execution_count": 15,
      "id": "1e0e14cb",
      "metadata": {
        "id": "1e0e14cb"
      },
      "outputs": [],
      "source": [
        "estaciones =  df3[['Nombre_comercial','Direccion','Full_Address']].drop_duplicates(subset = 'Nombre_comercial')\n",
        "estaciones.reset_index(inplace = True)\n",
        "estaciones.drop(columns = 'index',inplace = True)"
      ]
    },
    {
      "cell_type": "code",
      "execution_count": 16,
      "id": "8e475671",
      "metadata": {
        "colab": {
          "base_uri": "https://localhost:8080/",
          "height": 36
        },
        "id": "8e475671",
        "outputId": "e79f67d6-358b-4dbe-dc79-6e19a4799fa3"
      },
      "outputs": [
        {
          "output_type": "execute_result",
          "data": {
            "text/plain": [
              "'AVENIDA CARRERA 7 No. 123A-48, Bogota  d.c., Colombia'"
            ],
            "application/vnd.google.colaboratory.intrinsic+json": {
              "type": "string"
            }
          },
          "metadata": {},
          "execution_count": 16
        }
      ],
      "source": [
        "estaciones['Full_Address'][0]"
      ]
    },
    {
      "cell_type": "code",
      "execution_count": 18,
      "id": "a02b33c7",
      "metadata": {
        "id": "a02b33c7"
      },
      "outputs": [],
      "source": [
        "address = estaciones['Full_Address'][0]\n",
        "url = f'https://maps.googleapis.com/maps/api/geocode/json?address={address}&key={YOUR_API_KEY}'\n",
        "response = requests.get(url).json()"
      ]
    },
    {
      "cell_type": "code",
      "execution_count": 19,
      "id": "2ec7336c",
      "metadata": {
        "id": "2ec7336c"
      },
      "outputs": [],
      "source": [
        "def Get_Coords(address,YOUR_API_KEY):\n",
        "\n",
        "    url = f'https://maps.googleapis.com/maps/api/geocode/json?address={address}&key={YOUR_API_KEY}'\n",
        "\n",
        "    try :\n",
        "\n",
        "        response = requests.get(url).json()\n",
        "        CleanAddress = response['items'][0]['title'].upper()\n",
        "        LAT = response['items'][0]['position']['lat']\n",
        "        LNG = response['items'][0]['position']['lng']\n",
        "\n",
        "        results = [CleanAddress,LAT,LNG]\n",
        "\n",
        "    except :\n",
        "\n",
        "        results = ['Not Found','NA','NA']\n",
        "\n",
        "\n",
        "    return results"
      ]
    },
    {
      "cell_type": "code",
      "execution_count": 20,
      "id": "a8c7acee",
      "metadata": {
        "colab": {
          "base_uri": "https://localhost:8080/"
        },
        "id": "a8c7acee",
        "outputId": "eff1c429-59c0-4d7d-ed3c-216599225348"
      },
      "outputs": [
        {
          "output_type": "execute_result",
          "data": {
            "text/plain": [
              "['Not Found', 'NA', 'NA']"
            ]
          },
          "metadata": {},
          "execution_count": 20
        }
      ],
      "source": [
        "Get_Coords(address,YOUR_API_KEY)"
      ]
    },
    {
      "cell_type": "markdown",
      "id": "e3badb91",
      "metadata": {
        "id": "e3badb91"
      },
      "source": [
        "# Extracción de coordenadas"
      ]
    },
    {
      "cell_type": "code",
      "execution_count": 21,
      "id": "6421b985",
      "metadata": {
        "colab": {
          "base_uri": "https://localhost:8080/"
        },
        "id": "6421b985",
        "outputId": "3681c08e-7021-4e43-d0ac-ab96eee72376"
      },
      "outputs": [
        {
          "output_type": "stream",
          "name": "stderr",
          "text": [
            "100%|\u001b[32m██████████\u001b[0m| 239/239 [08:15<00:00,  2.07s/it]\n"
          ]
        }
      ],
      "source": [
        "coordenadas = []\n",
        "tiempo = [1,2,2.5]\n",
        "\n",
        "for i in tqdm(range(len(estaciones['Full_Address'])),colour = 'green'):\n",
        "\n",
        "    try :\n",
        "\n",
        "        R = Get_Coords(estaciones['Full_Address'][i],YOUR_API_KEY)\n",
        "        geo_source = R[1],R[2]\n",
        "        coordenadas.append(geo_source)\n",
        "\n",
        "    except :\n",
        "\n",
        "        coordenadas.append('Error')\n",
        "\n",
        "\n",
        "    time.sleep(random.choices(tiempo)[0])\n",
        "\n",
        ""
      ]
    },
    {
      "cell_type": "code",
      "execution_count": 22,
      "id": "8dcdd207",
      "metadata": {
        "id": "8dcdd207"
      },
      "outputs": [],
      "source": [
        "estaciones['Coords'] = coordenadas"
      ]
    },
    {
      "cell_type": "code",
      "execution_count": 23,
      "id": "e41642f7",
      "metadata": {
        "colab": {
          "base_uri": "https://localhost:8080/"
        },
        "id": "e41642f7",
        "outputId": "9223cbf9-df72-4a49-fb6c-66b8d80113a3"
      },
      "outputs": [
        {
          "output_type": "execute_result",
          "data": {
            "text/plain": [
              "857"
            ]
          },
          "metadata": {},
          "execution_count": 23
        }
      ],
      "source": [
        "len(df3)"
      ]
    },
    {
      "cell_type": "code",
      "execution_count": 24,
      "id": "379c95f1",
      "metadata": {
        "colab": {
          "base_uri": "https://localhost:8080/",
          "height": 112
        },
        "id": "379c95f1",
        "outputId": "c38afe3e-4278-40d4-b3e8-7c92e49b8d6d"
      },
      "outputs": [
        {
          "output_type": "execute_result",
          "data": {
            "text/plain": [
              "                       Nombre_comercial                      Direccion  \\\n",
              "0  SUPER ESTACION DE SERVICIO TEXACO 10  AVENIDA CARRERA 7 No. 123A-48   \n",
              "1             ESTACION DE SERVICIO ROXI            Carrera 24  No 7-11   \n",
              "\n",
              "                                        Full_Address    Coords  \n",
              "0  AVENIDA CARRERA 7 No. 123A-48, Bogota  d.c., C...  (NA, NA)  \n",
              "1        Carrera 24  No 7-11, Bogota  d.c., Colombia  (NA, NA)  "
            ],
            "text/html": [
              "\n",
              "  <div id=\"df-69aa54e5-539e-4b31-bc43-03ab8e5f8381\" class=\"colab-df-container\">\n",
              "    <div>\n",
              "<style scoped>\n",
              "    .dataframe tbody tr th:only-of-type {\n",
              "        vertical-align: middle;\n",
              "    }\n",
              "\n",
              "    .dataframe tbody tr th {\n",
              "        vertical-align: top;\n",
              "    }\n",
              "\n",
              "    .dataframe thead th {\n",
              "        text-align: right;\n",
              "    }\n",
              "</style>\n",
              "<table border=\"1\" class=\"dataframe\">\n",
              "  <thead>\n",
              "    <tr style=\"text-align: right;\">\n",
              "      <th></th>\n",
              "      <th>Nombre_comercial</th>\n",
              "      <th>Direccion</th>\n",
              "      <th>Full_Address</th>\n",
              "      <th>Coords</th>\n",
              "    </tr>\n",
              "  </thead>\n",
              "  <tbody>\n",
              "    <tr>\n",
              "      <th>0</th>\n",
              "      <td>SUPER ESTACION DE SERVICIO TEXACO 10</td>\n",
              "      <td>AVENIDA CARRERA 7 No. 123A-48</td>\n",
              "      <td>AVENIDA CARRERA 7 No. 123A-48, Bogota  d.c., C...</td>\n",
              "      <td>(NA, NA)</td>\n",
              "    </tr>\n",
              "    <tr>\n",
              "      <th>1</th>\n",
              "      <td>ESTACION DE SERVICIO ROXI</td>\n",
              "      <td>Carrera 24  No 7-11</td>\n",
              "      <td>Carrera 24  No 7-11, Bogota  d.c., Colombia</td>\n",
              "      <td>(NA, NA)</td>\n",
              "    </tr>\n",
              "  </tbody>\n",
              "</table>\n",
              "</div>\n",
              "    <div class=\"colab-df-buttons\">\n",
              "\n",
              "  <div class=\"colab-df-container\">\n",
              "    <button class=\"colab-df-convert\" onclick=\"convertToInteractive('df-69aa54e5-539e-4b31-bc43-03ab8e5f8381')\"\n",
              "            title=\"Convert this dataframe to an interactive table.\"\n",
              "            style=\"display:none;\">\n",
              "\n",
              "  <svg xmlns=\"http://www.w3.org/2000/svg\" height=\"24px\" viewBox=\"0 -960 960 960\">\n",
              "    <path d=\"M120-120v-720h720v720H120Zm60-500h600v-160H180v160Zm220 220h160v-160H400v160Zm0 220h160v-160H400v160ZM180-400h160v-160H180v160Zm440 0h160v-160H620v160ZM180-180h160v-160H180v160Zm440 0h160v-160H620v160Z\"/>\n",
              "  </svg>\n",
              "    </button>\n",
              "\n",
              "  <style>\n",
              "    .colab-df-container {\n",
              "      display:flex;\n",
              "      gap: 12px;\n",
              "    }\n",
              "\n",
              "    .colab-df-convert {\n",
              "      background-color: #E8F0FE;\n",
              "      border: none;\n",
              "      border-radius: 50%;\n",
              "      cursor: pointer;\n",
              "      display: none;\n",
              "      fill: #1967D2;\n",
              "      height: 32px;\n",
              "      padding: 0 0 0 0;\n",
              "      width: 32px;\n",
              "    }\n",
              "\n",
              "    .colab-df-convert:hover {\n",
              "      background-color: #E2EBFA;\n",
              "      box-shadow: 0px 1px 2px rgba(60, 64, 67, 0.3), 0px 1px 3px 1px rgba(60, 64, 67, 0.15);\n",
              "      fill: #174EA6;\n",
              "    }\n",
              "\n",
              "    .colab-df-buttons div {\n",
              "      margin-bottom: 4px;\n",
              "    }\n",
              "\n",
              "    [theme=dark] .colab-df-convert {\n",
              "      background-color: #3B4455;\n",
              "      fill: #D2E3FC;\n",
              "    }\n",
              "\n",
              "    [theme=dark] .colab-df-convert:hover {\n",
              "      background-color: #434B5C;\n",
              "      box-shadow: 0px 1px 3px 1px rgba(0, 0, 0, 0.15);\n",
              "      filter: drop-shadow(0px 1px 2px rgba(0, 0, 0, 0.3));\n",
              "      fill: #FFFFFF;\n",
              "    }\n",
              "  </style>\n",
              "\n",
              "    <script>\n",
              "      const buttonEl =\n",
              "        document.querySelector('#df-69aa54e5-539e-4b31-bc43-03ab8e5f8381 button.colab-df-convert');\n",
              "      buttonEl.style.display =\n",
              "        google.colab.kernel.accessAllowed ? 'block' : 'none';\n",
              "\n",
              "      async function convertToInteractive(key) {\n",
              "        const element = document.querySelector('#df-69aa54e5-539e-4b31-bc43-03ab8e5f8381');\n",
              "        const dataTable =\n",
              "          await google.colab.kernel.invokeFunction('convertToInteractive',\n",
              "                                                    [key], {});\n",
              "        if (!dataTable) return;\n",
              "\n",
              "        const docLinkHtml = 'Like what you see? Visit the ' +\n",
              "          '<a target=\"_blank\" href=https://colab.research.google.com/notebooks/data_table.ipynb>data table notebook</a>'\n",
              "          + ' to learn more about interactive tables.';\n",
              "        element.innerHTML = '';\n",
              "        dataTable['output_type'] = 'display_data';\n",
              "        await google.colab.output.renderOutput(dataTable, element);\n",
              "        const docLink = document.createElement('div');\n",
              "        docLink.innerHTML = docLinkHtml;\n",
              "        element.appendChild(docLink);\n",
              "      }\n",
              "    </script>\n",
              "  </div>\n",
              "\n",
              "\n",
              "<div id=\"df-13c2ada7-e5fd-4c8c-8555-2566cd07501b\">\n",
              "  <button class=\"colab-df-quickchart\" onclick=\"quickchart('df-13c2ada7-e5fd-4c8c-8555-2566cd07501b')\"\n",
              "            title=\"Suggest charts\"\n",
              "            style=\"display:none;\">\n",
              "\n",
              "<svg xmlns=\"http://www.w3.org/2000/svg\" height=\"24px\"viewBox=\"0 0 24 24\"\n",
              "     width=\"24px\">\n",
              "    <g>\n",
              "        <path d=\"M19 3H5c-1.1 0-2 .9-2 2v14c0 1.1.9 2 2 2h14c1.1 0 2-.9 2-2V5c0-1.1-.9-2-2-2zM9 17H7v-7h2v7zm4 0h-2V7h2v10zm4 0h-2v-4h2v4z\"/>\n",
              "    </g>\n",
              "</svg>\n",
              "  </button>\n",
              "\n",
              "<style>\n",
              "  .colab-df-quickchart {\n",
              "      --bg-color: #E8F0FE;\n",
              "      --fill-color: #1967D2;\n",
              "      --hover-bg-color: #E2EBFA;\n",
              "      --hover-fill-color: #174EA6;\n",
              "      --disabled-fill-color: #AAA;\n",
              "      --disabled-bg-color: #DDD;\n",
              "  }\n",
              "\n",
              "  [theme=dark] .colab-df-quickchart {\n",
              "      --bg-color: #3B4455;\n",
              "      --fill-color: #D2E3FC;\n",
              "      --hover-bg-color: #434B5C;\n",
              "      --hover-fill-color: #FFFFFF;\n",
              "      --disabled-bg-color: #3B4455;\n",
              "      --disabled-fill-color: #666;\n",
              "  }\n",
              "\n",
              "  .colab-df-quickchart {\n",
              "    background-color: var(--bg-color);\n",
              "    border: none;\n",
              "    border-radius: 50%;\n",
              "    cursor: pointer;\n",
              "    display: none;\n",
              "    fill: var(--fill-color);\n",
              "    height: 32px;\n",
              "    padding: 0;\n",
              "    width: 32px;\n",
              "  }\n",
              "\n",
              "  .colab-df-quickchart:hover {\n",
              "    background-color: var(--hover-bg-color);\n",
              "    box-shadow: 0 1px 2px rgba(60, 64, 67, 0.3), 0 1px 3px 1px rgba(60, 64, 67, 0.15);\n",
              "    fill: var(--button-hover-fill-color);\n",
              "  }\n",
              "\n",
              "  .colab-df-quickchart-complete:disabled,\n",
              "  .colab-df-quickchart-complete:disabled:hover {\n",
              "    background-color: var(--disabled-bg-color);\n",
              "    fill: var(--disabled-fill-color);\n",
              "    box-shadow: none;\n",
              "  }\n",
              "\n",
              "  .colab-df-spinner {\n",
              "    border: 2px solid var(--fill-color);\n",
              "    border-color: transparent;\n",
              "    border-bottom-color: var(--fill-color);\n",
              "    animation:\n",
              "      spin 1s steps(1) infinite;\n",
              "  }\n",
              "\n",
              "  @keyframes spin {\n",
              "    0% {\n",
              "      border-color: transparent;\n",
              "      border-bottom-color: var(--fill-color);\n",
              "      border-left-color: var(--fill-color);\n",
              "    }\n",
              "    20% {\n",
              "      border-color: transparent;\n",
              "      border-left-color: var(--fill-color);\n",
              "      border-top-color: var(--fill-color);\n",
              "    }\n",
              "    30% {\n",
              "      border-color: transparent;\n",
              "      border-left-color: var(--fill-color);\n",
              "      border-top-color: var(--fill-color);\n",
              "      border-right-color: var(--fill-color);\n",
              "    }\n",
              "    40% {\n",
              "      border-color: transparent;\n",
              "      border-right-color: var(--fill-color);\n",
              "      border-top-color: var(--fill-color);\n",
              "    }\n",
              "    60% {\n",
              "      border-color: transparent;\n",
              "      border-right-color: var(--fill-color);\n",
              "    }\n",
              "    80% {\n",
              "      border-color: transparent;\n",
              "      border-right-color: var(--fill-color);\n",
              "      border-bottom-color: var(--fill-color);\n",
              "    }\n",
              "    90% {\n",
              "      border-color: transparent;\n",
              "      border-bottom-color: var(--fill-color);\n",
              "    }\n",
              "  }\n",
              "</style>\n",
              "\n",
              "  <script>\n",
              "    async function quickchart(key) {\n",
              "      const quickchartButtonEl =\n",
              "        document.querySelector('#' + key + ' button');\n",
              "      quickchartButtonEl.disabled = true;  // To prevent multiple clicks.\n",
              "      quickchartButtonEl.classList.add('colab-df-spinner');\n",
              "      try {\n",
              "        const charts = await google.colab.kernel.invokeFunction(\n",
              "            'suggestCharts', [key], {});\n",
              "      } catch (error) {\n",
              "        console.error('Error during call to suggestCharts:', error);\n",
              "      }\n",
              "      quickchartButtonEl.classList.remove('colab-df-spinner');\n",
              "      quickchartButtonEl.classList.add('colab-df-quickchart-complete');\n",
              "    }\n",
              "    (() => {\n",
              "      let quickchartButtonEl =\n",
              "        document.querySelector('#df-13c2ada7-e5fd-4c8c-8555-2566cd07501b button');\n",
              "      quickchartButtonEl.style.display =\n",
              "        google.colab.kernel.accessAllowed ? 'block' : 'none';\n",
              "    })();\n",
              "  </script>\n",
              "</div>\n",
              "    </div>\n",
              "  </div>\n"
            ],
            "application/vnd.google.colaboratory.intrinsic+json": {
              "type": "dataframe",
              "variable_name": "estaciones",
              "summary": "{\n  \"name\": \"estaciones\",\n  \"rows\": 239,\n  \"fields\": [\n    {\n      \"column\": \"Nombre_comercial\",\n      \"properties\": {\n        \"dtype\": \"string\",\n        \"num_unique_values\": 239,\n        \"samples\": [\n          \"ESTACION DE SERVICIO HERGOS GASOLINA\",\n          \"SERVICENTRO ESSO AVENIDA TERCERA\",\n          \"ESTACION DE SERVICIO MONTEVIDEO\"\n        ],\n        \"semantic_type\": \"\",\n        \"description\": \"\"\n      }\n    },\n    {\n      \"column\": \"Direccion\",\n      \"properties\": {\n        \"dtype\": \"string\",\n        \"num_unique_values\": 239,\n        \"samples\": [\n          \"CALLE 73 NO 86 -08\",\n          \"CARRERA 3 No. 20-20\",\n          \"CALLE 13 No. 68D-84\"\n        ],\n        \"semantic_type\": \"\",\n        \"description\": \"\"\n      }\n    },\n    {\n      \"column\": \"Full_Address\",\n      \"properties\": {\n        \"dtype\": \"string\",\n        \"num_unique_values\": 239,\n        \"samples\": [\n          \"CALLE 73 NO 86 -08, Bogota  d.c., Colombia\",\n          \"CARRERA 3 No. 20-20, Bogota  d.c., Colombia\",\n          \"CALLE 13 No. 68D-84, Bogota  d.c., Colombia\"\n        ],\n        \"semantic_type\": \"\",\n        \"description\": \"\"\n      }\n    },\n    {\n      \"column\": \"Coords\",\n      \"properties\": {\n        \"dtype\": \"category\",\n        \"num_unique_values\": 1,\n        \"samples\": [\n          [\n            \"NA\",\n            \"NA\"\n          ]\n        ],\n        \"semantic_type\": \"\",\n        \"description\": \"\"\n      }\n    }\n  ]\n}"
            }
          },
          "metadata": {},
          "execution_count": 24
        }
      ],
      "source": [
        "estaciones.head(2)"
      ]
    },
    {
      "cell_type": "code",
      "execution_count": null,
      "id": "7ce19248",
      "metadata": {
        "id": "7ce19248"
      },
      "outputs": [],
      "source": [
        "df_final = pd.merge(df3,estaciones[['Full_Address','Coords']],how = 'inner' , on = 'Full_Address')"
      ]
    },
    {
      "cell_type": "code",
      "execution_count": null,
      "id": "23c3fe1a",
      "metadata": {
        "id": "23c3fe1a",
        "outputId": "02407c37-cc2c-459b-fe1c-48e846c97949"
      },
      "outputs": [
        {
          "data": {
            "text/html": [
              "<div>\n",
              "<style scoped>\n",
              "    .dataframe tbody tr th:only-of-type {\n",
              "        vertical-align: middle;\n",
              "    }\n",
              "\n",
              "    .dataframe tbody tr th {\n",
              "        vertical-align: top;\n",
              "    }\n",
              "\n",
              "    .dataframe thead th {\n",
              "        text-align: right;\n",
              "    }\n",
              "</style>\n",
              "<table border=\"1\" class=\"dataframe\">\n",
              "  <thead>\n",
              "    <tr style=\"text-align: right;\">\n",
              "      <th></th>\n",
              "      <th>Periodo</th>\n",
              "      <th>Mes</th>\n",
              "      <th>Codigo_departamento</th>\n",
              "      <th>Departamento</th>\n",
              "      <th>Codigo_municipio</th>\n",
              "      <th>Municipio</th>\n",
              "      <th>Nombre_comercial</th>\n",
              "      <th>Bandera</th>\n",
              "      <th>Direccion</th>\n",
              "      <th>Producto</th>\n",
              "      <th>Precio</th>\n",
              "      <th>Estado</th>\n",
              "      <th>Dir2</th>\n",
              "      <th>Full_Address</th>\n",
              "      <th>Coords</th>\n",
              "    </tr>\n",
              "  </thead>\n",
              "  <tbody>\n",
              "    <tr>\n",
              "      <th>0</th>\n",
              "      <td>2022</td>\n",
              "      <td>6</td>\n",
              "      <td>5</td>\n",
              "      <td>ANTIOQUIA</td>\n",
              "      <td>5266</td>\n",
              "      <td>ENVIGADO</td>\n",
              "      <td>ESTACION DE SERVICIOS PREMIUM LA SEBASTIANA</td>\n",
              "      <td>TEXACO</td>\n",
              "      <td>CARRERA 27 No. 36 SUR-199</td>\n",
              "      <td>GASOLINA CORRIENTE OXIGENADA</td>\n",
              "      <td>9710.0</td>\n",
              "      <td>A</td>\n",
              "      <td>CARRERA 27 No. 36 SUR-199</td>\n",
              "      <td>CARRERA 27 No. 36 SUR-199, Envigado, Colombia</td>\n",
              "      <td>(6.16364, -75.56929)</td>\n",
              "    </tr>\n",
              "    <tr>\n",
              "      <th>1</th>\n",
              "      <td>2022</td>\n",
              "      <td>6</td>\n",
              "      <td>5</td>\n",
              "      <td>ANTIOQUIA</td>\n",
              "      <td>5266</td>\n",
              "      <td>ENVIGADO</td>\n",
              "      <td>ESTACION DE SERVICIOS PREMIUM LA SEBASTIANA</td>\n",
              "      <td>TEXACO</td>\n",
              "      <td>CARRERA 27 No. 36 SUR-199</td>\n",
              "      <td>BIODIESEL EXTRA</td>\n",
              "      <td>10510.0</td>\n",
              "      <td>A</td>\n",
              "      <td>CARRERA 27 No. 36 SUR-199</td>\n",
              "      <td>CARRERA 27 No. 36 SUR-199, Envigado, Colombia</td>\n",
              "      <td>(6.16364, -75.56929)</td>\n",
              "    </tr>\n",
              "    <tr>\n",
              "      <th>2</th>\n",
              "      <td>2022</td>\n",
              "      <td>6</td>\n",
              "      <td>5</td>\n",
              "      <td>ANTIOQUIA</td>\n",
              "      <td>5266</td>\n",
              "      <td>ENVIGADO</td>\n",
              "      <td>ESTACION DE SERVICIOS PREMIUM LA SEBASTIANA</td>\n",
              "      <td>TEXACO</td>\n",
              "      <td>CARRERA 27 No. 36 SUR-199</td>\n",
              "      <td>BIODIESEL EXTRA</td>\n",
              "      <td>10510.0</td>\n",
              "      <td>A</td>\n",
              "      <td>CARRERA 27 No. 36 SUR-199</td>\n",
              "      <td>CARRERA 27 No. 36 SUR-199, Envigado, Colombia</td>\n",
              "      <td>(6.16364, -75.56929)</td>\n",
              "    </tr>\n",
              "  </tbody>\n",
              "</table>\n",
              "</div>"
            ],
            "text/plain": [
              "   Periodo  Mes  Codigo_departamento Departamento  Codigo_municipio Municipio  \\\n",
              "0     2022    6                    5    ANTIOQUIA              5266  ENVIGADO   \n",
              "1     2022    6                    5    ANTIOQUIA              5266  ENVIGADO   \n",
              "2     2022    6                    5    ANTIOQUIA              5266  ENVIGADO   \n",
              "\n",
              "                              Nombre_comercial Bandera  \\\n",
              "0  ESTACION DE SERVICIOS PREMIUM LA SEBASTIANA  TEXACO   \n",
              "1  ESTACION DE SERVICIOS PREMIUM LA SEBASTIANA  TEXACO   \n",
              "2  ESTACION DE SERVICIOS PREMIUM LA SEBASTIANA  TEXACO   \n",
              "\n",
              "                   Direccion                      Producto   Precio Estado  \\\n",
              "0  CARRERA 27 No. 36 SUR-199  GASOLINA CORRIENTE OXIGENADA   9710.0      A   \n",
              "1  CARRERA 27 No. 36 SUR-199               BIODIESEL EXTRA  10510.0      A   \n",
              "2  CARRERA 27 No. 36 SUR-199               BIODIESEL EXTRA  10510.0      A   \n",
              "\n",
              "                        Dir2                                   Full_Address  \\\n",
              "0  CARRERA 27 No. 36 SUR-199  CARRERA 27 No. 36 SUR-199, Envigado, Colombia   \n",
              "1  CARRERA 27 No. 36 SUR-199  CARRERA 27 No. 36 SUR-199, Envigado, Colombia   \n",
              "2  CARRERA 27 No. 36 SUR-199  CARRERA 27 No. 36 SUR-199, Envigado, Colombia   \n",
              "\n",
              "                 Coords  \n",
              "0  (6.16364, -75.56929)  \n",
              "1  (6.16364, -75.56929)  \n",
              "2  (6.16364, -75.56929)  "
            ]
          },
          "execution_count": 119,
          "metadata": {},
          "output_type": "execute_result"
        }
      ],
      "source": [
        "df_final.head(3)"
      ]
    },
    {
      "cell_type": "code",
      "execution_count": null,
      "id": "074390ab",
      "metadata": {
        "id": "074390ab"
      },
      "outputs": [],
      "source": [
        "df_final = pd.merge(df3,estaciones[['Full_Address','Coords']],how = 'inner' , on = 'Full_Address')"
      ]
    },
    {
      "cell_type": "code",
      "execution_count": null,
      "id": "7a4810c4",
      "metadata": {
        "id": "7a4810c4"
      },
      "outputs": [],
      "source": [
        "df_final.to_csv('DATASET_FINAL.CSV',index = False)"
      ]
    },
    {
      "cell_type": "code",
      "execution_count": null,
      "id": "5caf2c3e",
      "metadata": {
        "id": "5caf2c3e"
      },
      "outputs": [],
      "source": []
    },
    {
      "cell_type": "code",
      "execution_count": null,
      "id": "fcd5d480",
      "metadata": {
        "id": "fcd5d480"
      },
      "outputs": [],
      "source": []
    }
  ],
  "metadata": {
    "kernelspec": {
      "display_name": "google_datexland_env",
      "language": "python",
      "name": "google_datexland_env"
    },
    "language_info": {
      "codemirror_mode": {
        "name": "ipython",
        "version": 3
      },
      "file_extension": ".py",
      "mimetype": "text/x-python",
      "name": "python",
      "nbconvert_exporter": "python",
      "pygments_lexer": "ipython3",
      "version": "3.8.10"
    },
    "colab": {
      "provenance": [],
      "include_colab_link": true
    }
  },
  "nbformat": 4,
  "nbformat_minor": 5
}